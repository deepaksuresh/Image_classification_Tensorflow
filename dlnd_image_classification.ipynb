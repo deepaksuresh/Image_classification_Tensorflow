{
 "cells": [
  {
   "cell_type": "markdown",
   "metadata": {
    "collapsed": true
   },
   "source": [
    "# Image Classification\n",
    "Classifying images from the [CIFAR-10 dataset](https://www.cs.toronto.edu/~kriz/cifar.html) using convolutional neural network.  The dataset consists of airplanes, dogs, cats, and other objects. The images need to be normalized and the labels need to be one-hot encoded.\n",
    "\n",
    "## Load Data"
   ]
  },
  {
   "cell_type": "code",
   "execution_count": null,
   "metadata": {
    "collapsed": false
   },
   "outputs": [],
   "source": [
    "\n",
    "from os.path import isdir\n",
    "\n",
    "import tarfile\n",
    "import helper\n",
    "\n",
    "cifar10_dataset_folder_path = 'cifar-10-batches-py'\n",
    "\n",
    "\n",
    "if not isdir(cifar10_dataset_folder_path):\n",
    "    with tarfile.open('cifar-10-python.tar.gz') as tar:\n",
    "        tar.extractall()\n",
    "        tar.close()\n",
    "\n",
    "\n",
    "tests.test_folder_path(cifar10_dataset_folder_path)"
   ]
  },
  {
   "cell_type": "markdown",
   "metadata": {},
   "source": [
    "## Explore the Data"
   ]
  },
  {
   "cell_type": "code",
   "execution_count": null,
   "metadata": {
    "collapsed": false
   },
   "outputs": [],
   "source": [
    "%matplotlib inline\n",
    "%config InlineBackend.figure_format = 'retina'\n",
    "\n",
    "import numpy as np\n",
    "\n",
    "# Explore the dataset\n",
    "batch_id = 2\n",
    "sample_id = 100\n",
    "helper.display_stats(cifar10_dataset_folder_path, batch_id, sample_id)"
   ]
  },
  {
   "cell_type": "markdown",
   "metadata": {},
   "source": [
    "## Preprocess images\n",
    "### Normalize"
   ]
  },
  {
   "cell_type": "code",
   "execution_count": null,
   "metadata": {
    "collapsed": false
   },
   "outputs": [],
   "source": [
    "#ignore this cell\n",
    "x = np.arange(5)\n",
    "x=np.true_divide(x, 4)\n",
    "x"
   ]
  },
  {
   "cell_type": "code",
   "execution_count": null,
   "metadata": {
    "collapsed": false
   },
   "outputs": [],
   "source": [
    "def normalize(x):\n",
    "    \"\"\"\n",
    "    Normalize a list of sample image data in the range of 0 to 1\n",
    "    : x: List of image data.  The image shape is (32, 32, 3)\n",
    "    : return: Numpy array of normalize data\n",
    "    \"\"\"\n",
    "    x = x.astype('float')\n",
    "    x[:,:,:,0] = np.true_divide(x[:,:,:,0],np.max(x[:,:,:,0]))\n",
    "    x[:,:,:,1] = np.true_divide(x[:,:,:,1],np.max(x[:,:,:,1]))\n",
    "    x[:,:,:,2] = np.true_divide(x[:,:,:,2],np.max(x[:,:,:,2]))\n",
    "    return x\n"
   ]
  },
  {
   "cell_type": "code",
   "execution_count": null,
   "metadata": {
    "collapsed": false
   },
   "outputs": [],
   "source": [
    "def one_hot_encode(x):\n",
    "    \"\"\"\n",
    "    One hot encode a list of sample labels. Return a one-hot encoded vector for each label.\n",
    "    : x: List of sample Labels\n",
    "    : return: Numpy array of one-hot encoded labels\n",
    "    \"\"\"\n",
    "    encoded = np.zeros((len(x),10))\n",
    "    encoded[np.arange(len(x)),x]=1\n",
    "    return encoded"
   ]
  },
  {
   "cell_type": "markdown",
   "metadata": {},
   "source": [
    "### Randomize Data\n",
    "As you saw from exploring the data above, the order of the samples are randomized.  It doesn't hurt to randomize it again, but you don't need to for this dataset."
   ]
  },
  {
   "cell_type": "markdown",
   "metadata": {},
   "source": [
    "## Preprocess all the data and save it\n",
    "Running the code cell below will preprocess all the CIFAR-10 data and save it to file. The code below also uses 10% of the training data for validation."
   ]
  },
  {
   "cell_type": "code",
   "execution_count": null,
   "metadata": {
    "collapsed": false
   },
   "outputs": [],
   "source": [
    "\n",
    "# Preprocess Training, Validation, and Testing Data\n",
    "helper.preprocess_and_save_data(cifar10_dataset_folder_path, normalize, one_hot_encode)"
   ]
  },
  {
   "cell_type": "code",
   "execution_count": 1,
   "metadata": {
    "collapsed": true
   },
   "outputs": [],
   "source": [
    "\n",
    "import pickle\n",
    "import helper\n",
    "\n",
    "valid_features, valid_labels = pickle.load(open('preprocess_validation.p', mode='rb'))"
   ]
  },
  {
   "cell_type": "markdown",
   "metadata": {},
   "source": [
    "## Build the network"
   ]
  },
  {
   "cell_type": "code",
   "execution_count": null,
   "metadata": {
    "collapsed": true
   },
   "outputs": [],
   "source": [
    "import tensorflow as tf\n",
    "\n",
    "def neural_net_image_input(image_shape):\n",
    "    \"\"\"\n",
    "    Return a Tensor for a bach of image input\n",
    "    : image_shape: Shape of the images\n",
    "    : return: Tensor for image input.\n",
    "    \"\"\"\n",
    "    return tf.placeholder(tf.float32,[None,image_shape[0],image_shape[1],image_shape[2]],name=\"x\")\n",
    "\n",
    "\n",
    "def neural_net_label_input(n_classes):\n",
    "    \"\"\"\n",
    "    Return a Tensor for a batch of label input\n",
    "    : n_classes: Number of classes\n",
    "    : return: Tensor for label input.\n",
    "    \"\"\"\n",
    "    return tf.placeholder(tf.float32,[None,n_classes],name=\"y\")\n",
    "\n",
    "\n",
    "def neural_net_keep_prob_input():\n",
    "    \"\"\"\n",
    "    Return a Tensor for keep probability\n",
    "    : return: Tensor for keep probability.\n",
    "    \"\"\"\n",
    "    return tf.placeholder(tf.float32,name=\"keep_prob\")\n"
   ]
  },
  {
   "cell_type": "code",
   "execution_count": null,
   "metadata": {
    "collapsed": true
   },
   "outputs": [],
   "source": [
    "def conv2d_maxpool(x_tensor, conv_num_outputs, conv_ksize, conv_strides, pool_ksize, pool_strides):\n",
    "    \"\"\"\n",
    "    Apply convolution then max pooling to x_tensor\n",
    "    :param x_tensor: TensorFlow Tensor\n",
    "    :param conv_num_outputs: Number of outputs for the convolutional layer\n",
    "    :param conv_ksize: kernal size 2-D Tuple for the convolutional layer\n",
    "    :param conv_strides: Stride 2-D Tuple for convolution\n",
    "    :param pool_ksize: kernal size 2-D Tuple for pool\n",
    "    :param pool_strides: Stride 2-D Tuple for pool\n",
    "    : return: A tensor that represents convolution and max pooling of x_tensor\n",
    "    \"\"\"\n",
    "    input_depth = x_tensor.get_shape().as_list()[-1]\n",
    "    out_depth = conv_num_outputs\n",
    "    shape = [conv_ksize[0],conv_ksize[1],input_depth,out_depth]\n",
    "    stride_shape = [1, conv_strides[0], conv_strides[1], 1]\n",
    "    pool_k = [1,pool_ksize[0],pool_ksize[1],1]\n",
    "    pool_stride = [1,pool_strides[0],pool_strides[1],1]\n",
    "    \n",
    "    W = tf.Variable(tf.truncated_normal(shape, mean=0.0, stddev=0.1))\n",
    "    b = tf.Variable(tf.truncated_normal([out_depth], mean=0.0, stddev=0.1))\n",
    "    \n",
    "    x_tensor = tf.nn.conv2d(x_tensor, W, strides=stride_shape, padding='SAME')\n",
    "    x_tensor = tf.nn.bias_add(x_tensor, b)   \n",
    "    \n",
    "    x_tensor = tf.nn.max_pool(x_tensor, ksize=pool_k, strides=pool_stride,padding='SAME')\n",
    "    \n",
    "    return x_tensor \n"
   ]
  },
  {
   "cell_type": "markdown",
   "metadata": {},
   "source": [
    "### Flatten Layer"
   ]
  },
  {
   "cell_type": "code",
   "execution_count": null,
   "metadata": {
    "collapsed": true
   },
   "outputs": [],
   "source": [
    "from operator import mul\n",
    "from functools import reduce\n",
    "def flatten(x_tensor):\n",
    "    \"\"\"\n",
    "    Flatten x_tensor to (Batch Size, Flattened Image Size)\n",
    "    : x_tensor: A tensor of size (Batch Size, ...), where ... are the image dimensions.\n",
    "    : return: A tensor of size (Batch Size, Flattened Image Size).\n",
    "    \"\"\"\n",
    "    image_size = reduce(mul,x_tensor.get_shape().as_list()[1:],1)\n",
    "    return tf.reshape(x_tensor,[-1,image_size])\n",
    "    \n",
    "\n"
   ]
  },
  {
   "cell_type": "markdown",
   "metadata": {},
   "source": [
    "### Fully-Connected Layer"
   ]
  },
  {
   "cell_type": "code",
   "execution_count": null,
   "metadata": {
    "collapsed": true
   },
   "outputs": [],
   "source": [
    "def fully_conn(x_tensor, num_outputs):\n",
    "    \"\"\"\n",
    "    Apply a fully connected layer to x_tensor using weight and bias\n",
    "    : x_tensor: A 2-D tensor where the first dimension is batch size.\n",
    "    : num_outputs: The number of output that the new tensor should be.\n",
    "    : return: A 2-D tensor where the second dimension is num_outputs.\n",
    "    \"\"\"\n",
    "    shape = [x_tensor.get_shape().as_list()[-1],num_outputs]\n",
    "    w = tf.Variable(tf.truncated_normal(shape, mean=0.0, stddev=0.1))\n",
    "    b = tf.Variable(tf.truncated_normal([num_outputs], mean=0.0, stddev=0.1))\n",
    "    y = tf.add(tf.matmul(x_tensor, w), b)\n",
    "    return y\n",
    "\n"
   ]
  },
  {
   "cell_type": "markdown",
   "metadata": {},
   "source": [
    "### Output Layer"
   ]
  },
  {
   "cell_type": "code",
   "execution_count": null,
   "metadata": {
    "collapsed": true
   },
   "outputs": [],
   "source": [
    "def output(x_tensor, num_outputs):\n",
    "    \"\"\"\n",
    "    Apply a output layer to x_tensor using weight and bias\n",
    "    : x_tensor: A 2-D tensor where the first dimension is batch size.\n",
    "    : num_outputs: The number of output that the new tensor should be.\n",
    "    : return: A 2-D tensor where the second dimension is num_outputs.\n",
    "    \"\"\"\n",
    "    shape = [x_tensor.get_shape().as_list()[-1],num_outputs]\n",
    "    w = tf.Variable(tf.truncated_normal(shape, mean=0.0, stddev=0.1))\n",
    "    b = tf.Variable(tf.truncated_normal([num_outputs], mean=0.0, stddev=0.1))\n",
    "    y = tf.add(tf.matmul(x_tensor, w), b)\n",
    "    return y\n"
   ]
  },
  {
   "cell_type": "markdown",
   "metadata": {},
   "source": [
    "### Create Convolutional Model"
   ]
  },
  {
   "cell_type": "code",
   "execution_count": null,
   "metadata": {
    "collapsed": true
   },
   "outputs": [],
   "source": [
    "def conv_net(x, keep_prob):\n",
    "    \"\"\"\n",
    "    Create a convolutional neural network model\n",
    "    : x: Placeholder tensor that holds image data.\n",
    "    : keep_prob: Placeholder tensor that hold dropout keep probability.\n",
    "    : return: Tensor that represents logits\n",
    "    \"\"\"\n",
    "\n",
    "    x = conv2d_maxpool(x, 40, (3,3), (2,2), (2,2), (2,2))\n",
    "    x = conv2d_maxpool(x, 80, (3,3), (2,2), (2,2), (2,2))\n",
    "\n",
    "\n",
    "    x=flatten(x)\n",
    "\n",
    "\n",
    "    x=fully_conn(x, 1500)\n",
    "    x=tf.nn.dropout(x, keep_prob)\n",
    "    x=fully_conn(x, 250)\n",
    "    x=tf.nn.dropout(x, keep_prob)\n",
    " \n",
    "    x=output(x, 10)\n",
    "    \n",
    "\n",
    "    return x\n",
    "\n",
    "\n",
    "\n",
    "tf.reset_default_graph()\n",
    "\n",
    "# Inputs\n",
    "x = neural_net_image_input((32, 32, 3))\n",
    "y = neural_net_label_input(10)\n",
    "keep_prob = neural_net_keep_prob_input()\n",
    "\n",
    "# Model\n",
    "logits = conv_net(x, keep_prob)\n",
    "\n",
    "# Name logits Tensor\n",
    "logits = tf.identity(logits, name='logits')\n",
    "\n",
    "# Loss and Optimizer\n",
    "cost = tf.reduce_mean(tf.nn.softmax_cross_entropy_with_logits(logits=logits, labels=y))\n",
    "optimizer = tf.train.AdamOptimizer().minimize(cost)\n",
    "\n",
    "# Accuracy\n",
    "correct_pred = tf.equal(tf.argmax(logits, 1), tf.argmax(y, 1))\n",
    "accuracy = tf.reduce_mean(tf.cast(correct_pred, tf.float32), name='accuracy')\n"
   ]
  },
  {
   "cell_type": "markdown",
   "metadata": {},
   "source": [
    "## Train the Neural Network"
   ]
  },
  {
   "cell_type": "code",
   "execution_count": null,
   "metadata": {
    "collapsed": true
   },
   "outputs": [],
   "source": [
    "def train_neural_network(session, optimizer, keep_probability, feature_batch, label_batch):\n",
    "    \"\"\"\n",
    "    Optimize the session on a batch of images and labels\n",
    "    : session: Current TensorFlow session\n",
    "    : optimizer: TensorFlow optimizer function\n",
    "    : keep_probability: keep probability\n",
    "    : feature_batch: Batch of Numpy image data\n",
    "    : label_batch: Batch of Numpy label data\n",
    "    \"\"\"\n",
    "    session.run(optimizer,feed_dict={keep_prob:keep_probability, x:feature_batch, y:label_batch})\n"
   ]
  },
  {
   "cell_type": "markdown",
   "metadata": {},
   "source": [
    "### Show Stats"
   ]
  },
  {
   "cell_type": "code",
   "execution_count": 9,
   "metadata": {
    "collapsed": false
   },
   "outputs": [],
   "source": [
    "def print_stats(session, feature_batch, label_batch, cost, accuracy):\n",
    "    \"\"\"\n",
    "    Print information about loss and validation accuracy\n",
    "    : session: Current TensorFlow session\n",
    "    : feature_batch: Batch of Numpy image data\n",
    "    : label_batch: Batch of Numpy label data\n",
    "    : cost: TensorFlow cost function\n",
    "    : accuracy: TensorFlow accuracy function\n",
    "    \"\"\"\n",
    "    loss = session.run(cost, feed_dict = {x: feature_batch,y: label_batch, keep_prob: 1.0})\n",
    "    accuracy = session.run(accuracy,feed_dict = {x: valid_features, y: valid_labels, keep_prob: 1.0})\n",
    "    print(\"cost is: \",loss,\" accuracy is: \",accuracy)\n",
    "    "
   ]
  },
  {
   "cell_type": "code",
   "execution_count": 10,
   "metadata": {
    "collapsed": true
   },
   "outputs": [],
   "source": [
    "# Tune Parameters\n",
    "epochs = 15\n",
    "batch_size = 512\n",
    "keep_probability = 0.5"
   ]
  },
  {
   "cell_type": "markdown",
   "metadata": {},
   "source": [
    "### Train on a Single CIFAR-10 Batch"
   ]
  },
  {
   "cell_type": "code",
   "execution_count": 11,
   "metadata": {
    "collapsed": false,
    "scrolled": false
   },
   "outputs": [
    {
     "name": "stdout",
     "output_type": "stream",
     "text": [
      "Checking the Training on a Single Batch...\n",
      "Epoch  1, CIFAR-10 Batch 1:  cost is:  2.03727  accuracy is:  0.3324\n",
      "Epoch  2, CIFAR-10 Batch 1:  cost is:  1.83919  accuracy is:  0.3962\n",
      "Epoch  3, CIFAR-10 Batch 1:  cost is:  1.69496  accuracy is:  0.4302\n",
      "Epoch  4, CIFAR-10 Batch 1:  cost is:  1.60769  accuracy is:  0.4446\n",
      "Epoch  5, CIFAR-10 Batch 1:  cost is:  1.525  accuracy is:  0.4602\n",
      "Epoch  6, CIFAR-10 Batch 1:  cost is:  1.4583  accuracy is:  0.4708\n",
      "Epoch  7, CIFAR-10 Batch 1:  cost is:  1.4025  accuracy is:  0.4848\n",
      "Epoch  8, CIFAR-10 Batch 1:  cost is:  1.34928  accuracy is:  0.4844\n",
      "Epoch  9, CIFAR-10 Batch 1:  cost is:  1.30103  accuracy is:  0.5042\n",
      "Epoch 10, CIFAR-10 Batch 1:  cost is:  1.25534  accuracy is:  0.5066\n",
      "Epoch 11, CIFAR-10 Batch 1:  cost is:  1.22601  accuracy is:  0.503\n",
      "Epoch 12, CIFAR-10 Batch 1:  cost is:  1.20614  accuracy is:  0.502\n",
      "Epoch 13, CIFAR-10 Batch 1:  cost is:  1.15259  accuracy is:  0.512\n",
      "Epoch 14, CIFAR-10 Batch 1:  cost is:  1.09971  accuracy is:  0.525\n",
      "Epoch 15, CIFAR-10 Batch 1:  cost is:  1.07655  accuracy is:  0.5208\n"
     ]
    }
   ],
   "source": [
    "\n",
    "print('Checking the Training on a Single Batch...')\n",
    "with tf.Session() as sess:\n",
    "    # Initializing the variables\n",
    "    sess.run(tf.global_variables_initializer())\n",
    "    # Training cycle\n",
    "    for epoch in range(epochs):\n",
    "        batch_i = 1\n",
    "        for batch_features, batch_labels in helper.load_preprocess_training_batch(batch_i, batch_size):\n",
    "            train_neural_network(sess, optimizer, keep_probability, batch_features, batch_labels)\n",
    "        print('Epoch {:>2}, CIFAR-10 Batch {}:  '.format(epoch + 1, batch_i), end='')\n",
    "        print_stats(sess, batch_features, batch_labels, cost, accuracy)"
   ]
  },
  {
   "cell_type": "markdown",
   "metadata": {},
   "source": [
    "### Fully Train the Model\n",
    "Now that you got a good accuracy with a single CIFAR-10 batch, try it with all five batches."
   ]
  },
  {
   "cell_type": "code",
   "execution_count": 12,
   "metadata": {
    "collapsed": false,
    "scrolled": true
   },
   "outputs": [
    {
     "name": "stdout",
     "output_type": "stream",
     "text": [
      "Training...\n",
      "Epoch  1, CIFAR-10 Batch 1:  cost is:  2.00226  accuracy is:  0.334\n",
      "Epoch  1, CIFAR-10 Batch 2:  cost is:  1.70694  accuracy is:  0.3806\n",
      "Epoch  1, CIFAR-10 Batch 3:  cost is:  1.59101  accuracy is:  0.4082\n",
      "Epoch  1, CIFAR-10 Batch 4:  cost is:  1.5353  accuracy is:  0.4306\n",
      "Epoch  1, CIFAR-10 Batch 5:  cost is:  1.63917  accuracy is:  0.4426\n",
      "Epoch  2, CIFAR-10 Batch 1:  cost is:  1.66488  accuracy is:  0.4648\n",
      "Epoch  2, CIFAR-10 Batch 2:  cost is:  1.45058  accuracy is:  0.4744\n",
      "Epoch  2, CIFAR-10 Batch 3:  cost is:  1.4096  accuracy is:  0.4616\n",
      "Epoch  2, CIFAR-10 Batch 4:  cost is:  1.35522  accuracy is:  0.4796\n",
      "Epoch  2, CIFAR-10 Batch 5:  cost is:  1.48704  accuracy is:  0.5052\n",
      "Epoch  3, CIFAR-10 Batch 1:  cost is:  1.52918  accuracy is:  0.5026\n",
      "Epoch  3, CIFAR-10 Batch 2:  cost is:  1.33493  accuracy is:  0.494\n",
      "Epoch  3, CIFAR-10 Batch 3:  cost is:  1.28373  accuracy is:  0.5104\n",
      "Epoch  3, CIFAR-10 Batch 4:  cost is:  1.2359  accuracy is:  0.5188\n",
      "Epoch  3, CIFAR-10 Batch 5:  cost is:  1.381  accuracy is:  0.5254\n",
      "Epoch  4, CIFAR-10 Batch 1:  cost is:  1.43654  accuracy is:  0.5132\n",
      "Epoch  4, CIFAR-10 Batch 2:  cost is:  1.22877  accuracy is:  0.53\n",
      "Epoch  4, CIFAR-10 Batch 3:  cost is:  1.22132  accuracy is:  0.531\n",
      "Epoch  4, CIFAR-10 Batch 4:  cost is:  1.18137  accuracy is:  0.5206\n",
      "Epoch  4, CIFAR-10 Batch 5:  cost is:  1.32045  accuracy is:  0.5262\n",
      "Epoch  5, CIFAR-10 Batch 1:  cost is:  1.35904  accuracy is:  0.5418\n",
      "Epoch  5, CIFAR-10 Batch 2:  cost is:  1.15212  accuracy is:  0.5398\n",
      "Epoch  5, CIFAR-10 Batch 3:  cost is:  1.15285  accuracy is:  0.5462\n",
      "Epoch  5, CIFAR-10 Batch 4:  cost is:  1.11483  accuracy is:  0.534\n",
      "Epoch  5, CIFAR-10 Batch 5:  cost is:  1.27402  accuracy is:  0.5392\n",
      "Epoch  6, CIFAR-10 Batch 1:  cost is:  1.27698  accuracy is:  0.5518\n",
      "Epoch  6, CIFAR-10 Batch 2:  cost is:  1.11473  accuracy is:  0.5412\n",
      "Epoch  6, CIFAR-10 Batch 3:  cost is:  1.13134  accuracy is:  0.5436\n",
      "Epoch  6, CIFAR-10 Batch 4:  cost is:  1.05104  accuracy is:  0.5496\n",
      "Epoch  6, CIFAR-10 Batch 5:  cost is:  1.21591  accuracy is:  0.556\n",
      "Epoch  7, CIFAR-10 Batch 1:  cost is:  1.24064  accuracy is:  0.5646\n",
      "Epoch  7, CIFAR-10 Batch 2:  cost is:  1.06656  accuracy is:  0.5568\n",
      "Epoch  7, CIFAR-10 Batch 3:  cost is:  1.06579  accuracy is:  0.566\n",
      "Epoch  7, CIFAR-10 Batch 4:  cost is:  0.984675  accuracy is:  0.5672\n",
      "Epoch  7, CIFAR-10 Batch 5:  cost is:  1.18149  accuracy is:  0.5736\n",
      "Epoch  8, CIFAR-10 Batch 1:  cost is:  1.17768  accuracy is:  0.5736\n",
      "Epoch  8, CIFAR-10 Batch 2:  cost is:  1.03439  accuracy is:  0.5612\n",
      "Epoch  8, CIFAR-10 Batch 3:  cost is:  1.04045  accuracy is:  0.5654\n",
      "Epoch  8, CIFAR-10 Batch 4:  cost is:  0.94787  accuracy is:  0.5784\n",
      "Epoch  8, CIFAR-10 Batch 5:  cost is:  1.12829  accuracy is:  0.5848\n",
      "Epoch  9, CIFAR-10 Batch 1:  cost is:  1.13808  accuracy is:  0.5774\n",
      "Epoch  9, CIFAR-10 Batch 2:  cost is:  1.00837  accuracy is:  0.5628\n",
      "Epoch  9, CIFAR-10 Batch 3:  cost is:  1.00632  accuracy is:  0.5776\n",
      "Epoch  9, CIFAR-10 Batch 4:  cost is:  0.931448  accuracy is:  0.5696\n",
      "Epoch  9, CIFAR-10 Batch 5:  cost is:  1.09002  accuracy is:  0.591\n",
      "Epoch 10, CIFAR-10 Batch 1:  cost is:  1.10975  accuracy is:  0.582\n",
      "Epoch 10, CIFAR-10 Batch 2:  cost is:  0.962861  accuracy is:  0.5744\n",
      "Epoch 10, CIFAR-10 Batch 3:  cost is:  0.987615  accuracy is:  0.5778\n",
      "Epoch 10, CIFAR-10 Batch 4:  cost is:  0.893676  accuracy is:  0.5786\n",
      "Epoch 10, CIFAR-10 Batch 5:  cost is:  1.06233  accuracy is:  0.591\n",
      "Epoch 11, CIFAR-10 Batch 1:  cost is:  1.07975  accuracy is:  0.5918\n",
      "Epoch 11, CIFAR-10 Batch 2:  cost is:  0.911076  accuracy is:  0.5908\n",
      "Epoch 11, CIFAR-10 Batch 3:  cost is:  0.960337  accuracy is:  0.5828\n",
      "Epoch 11, CIFAR-10 Batch 4:  cost is:  0.858694  accuracy is:  0.59\n",
      "Epoch 11, CIFAR-10 Batch 5:  cost is:  1.03016  accuracy is:  0.5954\n",
      "Epoch 12, CIFAR-10 Batch 1:  cost is:  1.06593  accuracy is:  0.5912\n",
      "Epoch 12, CIFAR-10 Batch 2:  cost is:  0.905572  accuracy is:  0.5874\n",
      "Epoch 12, CIFAR-10 Batch 3:  cost is:  0.95869  accuracy is:  0.5832\n",
      "Epoch 12, CIFAR-10 Batch 4:  cost is:  0.861484  accuracy is:  0.5916\n",
      "Epoch 12, CIFAR-10 Batch 5:  cost is:  1.00166  accuracy is:  0.6008\n",
      "Epoch 13, CIFAR-10 Batch 1:  cost is:  1.04472  accuracy is:  0.5958\n",
      "Epoch 13, CIFAR-10 Batch 2:  cost is:  0.860014  accuracy is:  0.5998\n",
      "Epoch 13, CIFAR-10 Batch 3:  cost is:  0.927944  accuracy is:  0.5924\n",
      "Epoch 13, CIFAR-10 Batch 4:  cost is:  0.833108  accuracy is:  0.5924\n",
      "Epoch 13, CIFAR-10 Batch 5:  cost is:  0.983496  accuracy is:  0.6062\n",
      "Epoch 14, CIFAR-10 Batch 1:  cost is:  0.998921  accuracy is:  0.6016\n",
      "Epoch 14, CIFAR-10 Batch 2:  cost is:  0.845495  accuracy is:  0.6012\n",
      "Epoch 14, CIFAR-10 Batch 3:  cost is:  0.897439  accuracy is:  0.5888\n",
      "Epoch 14, CIFAR-10 Batch 4:  cost is:  0.817122  accuracy is:  0.598\n",
      "Epoch 14, CIFAR-10 Batch 5:  cost is:  0.950778  accuracy is:  0.5978\n",
      "Epoch 15, CIFAR-10 Batch 1:  cost is:  0.989588  accuracy is:  0.603\n",
      "Epoch 15, CIFAR-10 Batch 2:  cost is:  0.831188  accuracy is:  0.6048\n",
      "Epoch 15, CIFAR-10 Batch 3:  cost is:  0.880517  accuracy is:  0.5954\n",
      "Epoch 15, CIFAR-10 Batch 4:  cost is:  0.792305  accuracy is:  0.599\n",
      "Epoch 15, CIFAR-10 Batch 5:  cost is:  0.928896  accuracy is:  0.6104\n"
     ]
    }
   ],
   "source": [
    "\n",
    "save_model_path = './image_classification'\n",
    "\n",
    "print('Training...')\n",
    "with tf.Session() as sess:\n",
    "    # Initializing the variables\n",
    "    sess.run(tf.global_variables_initializer())\n",
    "    \n",
    "    # Training cycle\n",
    "    for epoch in range(epochs):\n",
    "        # Loop over all batches\n",
    "        n_batches = 5\n",
    "        for batch_i in range(1, n_batches + 1):\n",
    "            for batch_features, batch_labels in helper.load_preprocess_training_batch(batch_i, batch_size):\n",
    "                train_neural_network(sess, optimizer, keep_probability, batch_features, batch_labels)\n",
    "            print('Epoch {:>2}, CIFAR-10 Batch {}:  '.format(epoch + 1, batch_i), end='')\n",
    "            print_stats(sess, batch_features, batch_labels, cost, accuracy)\n",
    "            \n",
    "    # Save Model\n",
    "    saver = tf.train.Saver()\n",
    "    save_path = saver.save(sess, save_model_path)"
   ]
  },
  {
   "cell_type": "markdown",
   "metadata": {},
   "source": [
    "\n",
    "## Test Model"
   ]
  },
  {
   "cell_type": "code",
   "execution_count": 13,
   "metadata": {
    "collapsed": false
   },
   "outputs": [
    {
     "name": "stdout",
     "output_type": "stream",
     "text": [
      "Testing Accuracy: 0.6043830424547195\n",
      "\n"
     ]
    },
    {
     "data": {
      "image/png": "[encoded data removed]",
      "text/plain": [
       "<matplotlib.figure.Figure at 0x7f252ffeba20>"
      ]
     },
     "metadata": {
      "image/png": {
       "height": 319,
       "width": 355
      }
     },
     "output_type": "display_data"
    }
   ],
   "source": [
    "\n",
    "%matplotlib inline\n",
    "%config InlineBackend.figure_format = 'retina'\n",
    "\n",
    "import tensorflow as tf\n",
    "import pickle\n",
    "import helper\n",
    "import random\n",
    "\n",
    "# Set batch size if not already set\n",
    "try:\n",
    "    if batch_size:\n",
    "        pass\n",
    "except NameError:\n",
    "    batch_size = 64\n",
    "\n",
    "save_model_path = './image_classification'\n",
    "n_samples = 4\n",
    "top_n_predictions = 3\n",
    "\n",
    "def test_model():\n",
    "    \"\"\"\n",
    "    Test the saved model against the test dataset\n",
    "    \"\"\"\n",
    "\n",
    "    test_features, test_labels = pickle.load(open('preprocess_training.p', mode='rb'))\n",
    "    loaded_graph = tf.Graph()\n",
    "\n",
    "    with tf.Session(graph=loaded_graph) as sess:\n",
    "        # Load model\n",
    "        loader = tf.train.import_meta_graph(save_model_path + '.meta')\n",
    "        loader.restore(sess, save_model_path)\n",
    "\n",
    "        # Get Tensors from loaded model\n",
    "        loaded_x = loaded_graph.get_tensor_by_name('x:0')\n",
    "        loaded_y = loaded_graph.get_tensor_by_name('y:0')\n",
    "        loaded_keep_prob = loaded_graph.get_tensor_by_name('keep_prob:0')\n",
    "        loaded_logits = loaded_graph.get_tensor_by_name('logits:0')\n",
    "        loaded_acc = loaded_graph.get_tensor_by_name('accuracy:0')\n",
    "        \n",
    "        # Get accuracy in batches for memory limitations\n",
    "        test_batch_acc_total = 0\n",
    "        test_batch_count = 0\n",
    "        \n",
    "        for train_feature_batch, train_label_batch in helper.batch_features_labels(test_features, test_labels, batch_size):\n",
    "            test_batch_acc_total += sess.run(\n",
    "                loaded_acc,\n",
    "                feed_dict={loaded_x: train_feature_batch, loaded_y: train_label_batch, loaded_keep_prob: 1.0})\n",
    "            test_batch_count += 1\n",
    "\n",
    "        print('Testing Accuracy: {}\\n'.format(test_batch_acc_total/test_batch_count))\n",
    "\n",
    "        # Print Random Samples\n",
    "        random_test_features, random_test_labels = tuple(zip(*random.sample(list(zip(test_features, test_labels)), n_samples)))\n",
    "        random_test_predictions = sess.run(\n",
    "            tf.nn.top_k(tf.nn.softmax(loaded_logits), top_n_predictions),\n",
    "            feed_dict={loaded_x: random_test_features, loaded_y: random_test_labels, loaded_keep_prob: 1.0})\n",
    "        helper.display_image_predictions(random_test_features, random_test_labels, random_test_predictions)\n",
    "\n"
   ]
  }
 ],
 "metadata": {
  "kernelspec": {
   "display_name": "Python 3",
   "language": "python",
   "name": "python3"
  },
  "language_info": {
   "codemirror_mode": {
    "name": "ipython",
    "version": 3
   },
   "file_extension": ".py",
   "mimetype": "text/x-python",
   "name": "python",
   "nbconvert_exporter": "python",
   "pygments_lexer": "ipython3",
   "version": "3.5.2"
  }
 },
 "nbformat": 4,
 "nbformat_minor": 0
}
